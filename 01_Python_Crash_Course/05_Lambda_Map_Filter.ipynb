{
 "cells": [
  {
   "cell_type": "markdown",
   "metadata": {},
   "source": [
    "__________\n",
    "# 05. Lambda | Map | Filter\n",
    "The present notebook will introduce `lambda`, `map()`, and `filter()` functions, which differ from the functions you met previously both by syntax and provided functionality. We will go through numerous examples of how to define and use them, and you will have to use this knowledge in order to carry out a number of exercises.\n",
    "__________"
   ]
  },
  {
   "cell_type": "markdown",
   "metadata": {},
   "source": [
    "# `lambda` Expressions\n",
    "A lambda function is a small anonymous function that can take any number of arguments: \n",
    "\n",
    "***`lambda`*** *arguments*: *expression*\n",
    "\n",
    "Here is a lambda function that adds 10 to the number passed in as an argument:"
   ]
  },
  {
   "cell_type": "code",
   "execution_count": 1,
   "metadata": {},
   "outputs": [
    {
     "data": {
      "text/plain": [
       "<function __main__.<lambda>(a)>"
      ]
     },
     "execution_count": 1,
     "metadata": {},
     "output_type": "execute_result"
    }
   ],
   "source": [
    "x = lambda a : a + 10\n",
    "x"
   ]
  },
  {
   "cell_type": "code",
   "execution_count": 2,
   "metadata": {},
   "outputs": [
    {
     "data": {
      "text/plain": [
       "15"
      ]
     },
     "execution_count": 2,
     "metadata": {},
     "output_type": "execute_result"
    }
   ],
   "source": [
    "x(5)"
   ]
  },
  {
   "cell_type": "markdown",
   "metadata": {},
   "source": [
    "And another one that multiplies argument a with argument b:"
   ]
  },
  {
   "cell_type": "code",
   "execution_count": 3,
   "metadata": {},
   "outputs": [
    {
     "data": {
      "text/plain": [
       "<function __main__.<lambda>(a, b)>"
      ]
     },
     "execution_count": 3,
     "metadata": {},
     "output_type": "execute_result"
    }
   ],
   "source": [
    "x = lambda a, b : a * b\n",
    "x"
   ]
  },
  {
   "cell_type": "code",
   "execution_count": 4,
   "metadata": {},
   "outputs": [
    {
     "data": {
      "text/plain": [
       "30"
      ]
     },
     "execution_count": 4,
     "metadata": {},
     "output_type": "execute_result"
    }
   ],
   "source": [
    "x(5, 6) "
   ]
  },
  {
   "cell_type": "code",
   "execution_count": 5,
   "metadata": {},
   "outputs": [],
   "source": [
    "def times2(x):\n",
    "    return x * 2"
   ]
  },
  {
   "cell_type": "code",
   "execution_count": 6,
   "metadata": {},
   "outputs": [
    {
     "data": {
      "text/plain": [
       "4"
      ]
     },
     "execution_count": 6,
     "metadata": {},
     "output_type": "execute_result"
    }
   ],
   "source": [
    "times2(2)"
   ]
  },
  {
   "cell_type": "code",
   "execution_count": 7,
   "metadata": {},
   "outputs": [
    {
     "data": {
      "text/plain": [
       "[111, 222, 111, 222]"
      ]
     },
     "execution_count": 7,
     "metadata": {},
     "output_type": "execute_result"
    }
   ],
   "source": [
    "times2([111, 222])"
   ]
  },
  {
   "cell_type": "code",
   "execution_count": 8,
   "metadata": {},
   "outputs": [
    {
     "data": {
      "text/plain": [
       "\"We don't need no educationWe don't need no education\""
      ]
     },
     "execution_count": 8,
     "metadata": {},
     "output_type": "execute_result"
    }
   ],
   "source": [
    "times2('We don\\'t need no education')"
   ]
  },
  {
   "cell_type": "code",
   "execution_count": 9,
   "metadata": {},
   "outputs": [
    {
     "data": {
      "text/plain": [
       "<function __main__.<lambda>(var)>"
      ]
     },
     "execution_count": 9,
     "metadata": {},
     "output_type": "execute_result"
    }
   ],
   "source": [
    "x = lambda var: var*2\n",
    "x"
   ]
  },
  {
   "cell_type": "code",
   "execution_count": 10,
   "metadata": {},
   "outputs": [
    {
     "data": {
      "text/plain": [
       "4"
      ]
     },
     "execution_count": 10,
     "metadata": {},
     "output_type": "execute_result"
    }
   ],
   "source": [
    "x(2)"
   ]
  },
  {
   "cell_type": "code",
   "execution_count": 11,
   "metadata": {},
   "outputs": [
    {
     "data": {
      "text/plain": [
       "[111, 222, 111, 222]"
      ]
     },
     "execution_count": 11,
     "metadata": {},
     "output_type": "execute_result"
    }
   ],
   "source": [
    "x([111,222])"
   ]
  },
  {
   "cell_type": "markdown",
   "metadata": {},
   "source": [
    "### `Exercise 1 - Lambda Sorting Tuples`\n",
    "Sort a list of tuples using a `lambda` expression.\n",
    "\n",
    "E.g.,\n",
    "\n",
    "Input:\n",
    "\n",
    "    marks = [('EN', 80), ('IT', 88), ('DE', 95)]\n",
    "    \n",
    "Output:\n",
    "    \n",
    "    Sorting the tuple list:\n",
    "\n",
    "    [('EN', 80), ('IT', 88), ('DE', 95)]    "
   ]
  },
  {
   "cell_type": "code",
   "execution_count": 5,
   "metadata": {},
   "outputs": [
    {
     "ename": "SyntaxError",
     "evalue": "invalid syntax (<ipython-input-5-a8afc72b1c7b>, line 1)",
     "output_type": "error",
     "traceback": [
      "\u001b[0;36m  File \u001b[0;32m\"<ipython-input-5-a8afc72b1c7b>\"\u001b[0;36m, line \u001b[0;32m1\u001b[0m\n\u001b[0;31m    def marks\u001b[0m\n\u001b[0m             ^\u001b[0m\n\u001b[0;31mSyntaxError\u001b[0m\u001b[0;31m:\u001b[0m invalid syntax\n"
     ]
    }
   ],
   "source": [
    "marks = [('EN', 80), ('IT', 88), ('DE', 95)]\n",
    "x = lambda a: sorted(a)\n",
    "x(marks)"
   ]
  },
  {
   "cell_type": "markdown",
   "metadata": {},
   "source": [
    "### `Exercise 2 - Lambda Sorting Dict`\n",
    "Sort a list of dictionaries using a `lambda` expression.\n",
    "\n",
    "Input:\n",
    "\n",
    "    models = [{'make':'Nokia', 'model':216, 'color':'Black'}, \n",
    "              {'make':'Mi Max', 'model':'2', 'color':'Gold'}, \n",
    "              {'make':'Samsung', 'model': 7, 'color':'Blue'}]\n",
    "                 \n",
    "Output:\n",
    "    \n",
    "\n",
    "    Sorting the dictionary list :\n",
    "    [{'make': 'Nokia', 'model': 216, 'color': 'Black'}, {'make': 'Samsung', 'model': 7, 'color': 'Blue'}, {'make': 'Mi Max', 'model': 2, 'color': 'Gold'}]\n",
    " "
   ]
  },
  {
   "cell_type": "code",
   "execution_count": 10,
   "metadata": {},
   "outputs": [
    {
     "ename": "SyntaxError",
     "evalue": "invalid syntax (<ipython-input-10-49494fde4610>, line 1)",
     "output_type": "error",
     "traceback": [
      "\u001b[0;36m  File \u001b[0;32m\"<ipython-input-10-49494fde4610>\"\u001b[0;36m, line \u001b[0;32m1\u001b[0m\n\u001b[0;31m    def models\u001b[0m\n\u001b[0m              ^\u001b[0m\n\u001b[0;31mSyntaxError\u001b[0m\u001b[0;31m:\u001b[0m invalid syntax\n"
     ]
    }
   ],
   "source": [
    "def models\n",
    "    x = lambda a: sorted(a)\n",
    "    x(marks)\n",
    "print(sorted(models, key = lambda i: i['color']))\n",
    "models = [{'make':'Nokia', 'model':216, 'color':'Black'}, \n",
    "          {'make':'Mi Max', 'model':'2', 'color':'Gold'}, \n",
    "          {'make':'Samsung', 'model': 7, 'color':'Blue'}]"
   ]
  },
  {
   "cell_type": "markdown",
   "metadata": {},
   "source": [
    "### `Exercise 3 - Date Time Lambda`\n",
    "Extract year, month, date and time using Lambda:\n",
    "\n",
    "Input:\n",
    "\n",
    "    datetime.datetime(2020, 3, 28, 1, 3, 54, 121736)\n",
    "    \n",
    "Output:\n",
    "    \n",
    "    Datetime: 2020-03-28 01:06:28.325593\n",
    "    Year    : 2020\n",
    "    Month   : 3\n",
    "    Day     : 28\n",
    "    Now     : 01:06:28.325593"
   ]
  },
  {
   "cell_type": "code",
   "execution_count": null,
   "metadata": {},
   "outputs": [],
   "source": [
    "import datetime\n",
    "now = datetime.datetime.now()\n",
    "now"
   ]
  },
  {
   "cell_type": "code",
   "execution_count": null,
   "metadata": {},
   "outputs": [],
   "source": [
    "??datetime"
   ]
  },
  {
   "cell_type": "code",
   "execution_count": 18,
   "metadata": {},
   "outputs": [
    {
     "name": "stdout",
     "output_type": "stream",
     "text": [
      "2020-04-11 13:03:44.816105\n",
      "2020\n",
      "4\n",
      "11\n",
      "13:03:44.816105\n"
     ]
    }
   ],
   "source": [
    "import datetime\n",
    "now = datetime.datetime.now()\n",
    "print(now)\n",
    "year = lambda x: x.year\n",
    "month = lambda x: x.month\n",
    "day = lambda x: x.day\n",
    "t = lambda x: x.time()\n",
    "print(year(now))\n",
    "print(month(now))\n",
    "print(day(now))\n",
    "print(t(now))"
   ]
  },
  {
   "cell_type": "markdown",
   "metadata": {},
   "source": [
    "### `Exercise 4 - Lambda Printing`\n",
    "Create a lambda named `print2`, which works the same way as `print`, but always uses tab as a separator.\n",
    "\n",
    "`Hint` You will need the `*` operators."
   ]
  },
  {
   "cell_type": "code",
   "execution_count": 22,
   "metadata": {},
   "outputs": [
    {
     "name": "stdout",
     "output_type": "stream",
     "text": [
      "j\th\tw\tf\tg\te\t \t4\t5\t6\t4\n"
     ]
    }
   ],
   "source": [
    "print2 = lambda a: print(*a, sep=\"\\t\")\n",
    "print2(\"jhwfge 4564\")"
   ]
  },
  {
   "cell_type": "code",
   "execution_count": 23,
   "metadata": {},
   "outputs": [
    {
     "name": "stdout",
     "output_type": "stream",
     "text": [
      "jhwfge\t4564\n"
     ]
    }
   ],
   "source": [
    "print2 = lambda x: print(*x.split(), sep=\"\\t\")\n",
    "print2(\"jhwfge 4564\")"
   ]
  },
  {
   "cell_type": "markdown",
   "metadata": {},
   "source": [
    "___________\n",
    "# Map & Filter\n",
    "\n",
    "`Map` & `Filter` allow the programmer to write simpler, shorter code, without thinking about loops or branching. This way of coding is also known as functional programming, since we apply a function across a number of iterables in one full swoop. Both of these functions come built-in with Python (in the __builtins__ module) and require no importing.\n",
    "\n",
    "## Map\n",
    "The `map()` function in python has the following syntax:\n",
    "\n",
    "    map(func, *iterables)\n",
    "\n",
    "Where `func` is the function to be applied on each of the iterable elements (as many as there are). Note the use of `*`, for an arbitrary number of arguments. Additional notes:\n",
    "\n",
    "- In Python 3, `map()` returns a map object which is a generator object.\n",
    "- To get the result as a list, `list()` function can be called on the map object, e.g. `list(map(func, *iterables))`.\n",
    "- The number of arguments to func must be the number of iterables listed.\n",
    "\n",
    "Let's say you have a list (iterable) of your chosen laptop brands and want to uppercase them. In traditional Python, you would do something like this:"
   ]
  },
  {
   "cell_type": "code",
   "execution_count": null,
   "metadata": {},
   "outputs": [],
   "source": [
    "laptops = ['acer', 'asus', 'macbook', 'lg']\n",
    "[l.upper() for l in laptops]"
   ]
  },
  {
   "cell_type": "markdown",
   "metadata": {},
   "source": [
    "Alternatively, you can do the same using the `map()` function:"
   ]
  },
  {
   "cell_type": "code",
   "execution_count": null,
   "metadata": {},
   "outputs": [],
   "source": [
    "laptops = ['acer', 'asus', 'macbook', 'lg']\n",
    "list(map(str.upper, laptops))"
   ]
  },
  {
   "cell_type": "markdown",
   "metadata": {},
   "source": [
    "`func` corresponds to virtually any function, so we can also `map()` our own `def`initions:"
   ]
  },
  {
   "cell_type": "code",
   "execution_count": null,
   "metadata": {},
   "outputs": [],
   "source": [
    "seq = range(11, 33, 3)\n",
    "seq = list(seq)\n",
    "seq"
   ]
  },
  {
   "cell_type": "code",
   "execution_count": null,
   "metadata": {},
   "outputs": [],
   "source": [
    "def times2(x):\n",
    "    return x * 2\n",
    "\n",
    "map(times2, seq)"
   ]
  },
  {
   "cell_type": "code",
   "execution_count": null,
   "metadata": {},
   "outputs": [],
   "source": [
    "list(map(times2, seq))"
   ]
  },
  {
   "cell_type": "code",
   "execution_count": null,
   "metadata": {},
   "outputs": [],
   "source": [
    "def squared(x):\n",
    "    return x ** 2\n",
    "\n",
    "list(map(squared, seq))"
   ]
  },
  {
   "cell_type": "markdown",
   "metadata": {},
   "source": [
    "We can also combine `map()` with `lambda`:"
   ]
  },
  {
   "cell_type": "code",
   "execution_count": null,
   "metadata": {},
   "outputs": [],
   "source": [
    "list(map(lambda x: x * 2, seq))"
   ]
  },
  {
   "cell_type": "markdown",
   "metadata": {},
   "source": [
    "### `Exercise 5 - Map Stats`\n",
    "Assume that you gathered a list of stats (floats) about your working routines (be it the averages of customers that joined the system during each day of the month, the sums of money transactions, anything of the kind):\n",
    "\n",
    "    numbers = [0.356, 11.12, 16.534238, 3.2456, 9.1, 5, 13.6]\n",
    "    \n",
    "You want to round these numbers to have the same decimal placing via the `map()` function and the `round()` Python built-in. "
   ]
  },
  {
   "cell_type": "code",
   "execution_count": null,
   "metadata": {},
   "outputs": [],
   "source": []
  },
  {
   "cell_type": "markdown",
   "metadata": {},
   "source": [
    "Now change the functions, so that each of the elements is rounded to the position of it in the list. That is, round up the first element in the list to one decimal place, the second element in the list to two decimal places, the third element in the list to three decimal places, etc. \n",
    "\n",
    "`Note` Round function requires two arguments, so we need to pass in two iterables."
   ]
  },
  {
   "cell_type": "code",
   "execution_count": null,
   "metadata": {},
   "outputs": [],
   "source": [
    "numbers = [0.356, 11.12, 16.534238, 3.2456, 9.1, 5, 13.6]\n",
    "result = list(map(round, numbers, range(1,7)))\n",
    "print(result)"
   ]
  },
  {
   "cell_type": "markdown",
   "metadata": {},
   "source": [
    "### `Exercise 6 - Map Lambda Zip...?`\n",
    "Create a custom `zip()` function using `map()` and `lambda()`:\n",
    "\n",
    "    s = ['a', 'b', 'c', 'd', 'e']\n",
    "    n = [1,2,3,4,5]\n",
    "    \n",
    "    print(zip(s,n))\n",
    "    \n",
    "    [('a', 1), ('b', 2), ('c', 3), ('d', 4), ('e', 5)]"
   ]
  },
  {
   "cell_type": "code",
   "execution_count": 12,
   "metadata": {},
   "outputs": [],
   "source": [
    "# YOUR CODE GOES HERE"
   ]
  },
  {
   "cell_type": "markdown",
   "metadata": {},
   "source": [
    "__________________\n",
    "# `filter()`\n",
    "Having the syntax of the form: \n",
    "\n",
    "    filter(func, iterable)\n",
    "\n",
    "`filter()`then passes each element in the iterable through some function that requires to return boolean values, \"filtering\" away those that are false. In contrast, `map()` passes each element in the iterable through a function and returns the result of all elements having passed through the function.\n",
    "\n",
    "There are a few points worth remembering when thinking about `filter()`:\n",
    "\n",
    "- Unlike `map()`, only one iterable is required.\n",
    "- The `func` argument is required to return a boolean type. If it doesn't, filter simply returns the iterable passed to it. Also, as only one iterable is required, it's implicit that func must only take one argument.\n",
    "- `filter` passes each element in the iterable through `func` and returns only the ones that evaluate to `True`.\n",
    "\n",
    "Here is a simple example of a function filtering a list of numbers:"
   ]
  },
  {
   "cell_type": "code",
   "execution_count": null,
   "metadata": {},
   "outputs": [],
   "source": [
    "scores = [66, 90, 68, 59, 76, 60, 88, 74, 81, 65]\n",
    "\n",
    "def is_A_student(score):\n",
    "    return score > 75\n",
    "\n",
    "over_75 = list(filter(is_A_student, scores))\n",
    "over_75"
   ]
  },
  {
   "cell_type": "markdown",
   "metadata": {},
   "source": [
    "And here is a palindrome detector using `filter` combined with `lambda`:"
   ]
  },
  {
   "cell_type": "code",
   "execution_count": null,
   "metadata": {},
   "outputs": [],
   "source": [
    "dromes = (\"demigod\", \"rewire\", \"madam\", \"anutforajaroftuna\", \"kiosk\")\n",
    "palindromes = list(filter(lambda word: word == word[::-1], dromes))\n",
    "palindromes"
   ]
  },
  {
   "cell_type": "markdown",
   "metadata": {},
   "source": [
    "And a few examples more just to make it even clearer:"
   ]
  },
  {
   "cell_type": "code",
   "execution_count": null,
   "metadata": {},
   "outputs": [],
   "source": [
    "seq"
   ]
  },
  {
   "cell_type": "code",
   "execution_count": null,
   "metadata": {},
   "outputs": [],
   "source": [
    "list(filter(lambda x: x > 20, seq))"
   ]
  },
  {
   "cell_type": "code",
   "execution_count": null,
   "metadata": {},
   "outputs": [],
   "source": [
    "list(filter(lambda x: 20 < x < 30, seq))"
   ]
  },
  {
   "cell_type": "code",
   "execution_count": null,
   "metadata": {},
   "outputs": [],
   "source": [
    "input_value = range(10, 100, 2)"
   ]
  },
  {
   "cell_type": "code",
   "execution_count": null,
   "metadata": {},
   "outputs": [],
   "source": [
    "list(filter(lambda x: x % 3 == 0, input_value))"
   ]
  },
  {
   "cell_type": "code",
   "execution_count": null,
   "metadata": {},
   "outputs": [],
   "source": [
    "[x for x in input_value if x % 3 == 0]"
   ]
  },
  {
   "cell_type": "code",
   "execution_count": null,
   "metadata": {},
   "outputs": [],
   "source": [
    "from time import time"
   ]
  },
  {
   "cell_type": "code",
   "execution_count": null,
   "metadata": {},
   "outputs": [],
   "source": [
    "input_value = range(10, 100000, 2)"
   ]
  },
  {
   "cell_type": "code",
   "execution_count": null,
   "metadata": {
    "scrolled": true
   },
   "outputs": [],
   "source": [
    "%%time\n",
    "list(filter(lambda x: x % 3 == 0, input_value))"
   ]
  },
  {
   "cell_type": "code",
   "execution_count": null,
   "metadata": {},
   "outputs": [],
   "source": [
    "%%time\n",
    "[x for x in input_value if x % 3 == 0]"
   ]
  },
  {
   "cell_type": "code",
   "execution_count": null,
   "metadata": {},
   "outputs": [],
   "source": []
  },
  {
   "cell_type": "markdown",
   "metadata": {},
   "source": [
    "### `Exercise 7 - Is Even`\n",
    "Create a function `is_even` that takes a list of numbers and returns a new list with even numbers replaced by `True` and odd numbers replaced by `False`:\n",
    "\n",
    "Input:\n",
    "    \n",
    "    is_even([1, 2, 3, 4, 4])\n",
    "\n",
    "Output:\n",
    "\n",
    "    [False, True, False, True, True]"
   ]
  },
  {
   "cell_type": "code",
   "execution_count": null,
   "metadata": {},
   "outputs": [],
   "source": [
    "# YOUR CODE GOES HERE"
   ]
  },
  {
   "cell_type": "markdown",
   "metadata": {},
   "source": [
    "### `Exercise 8 - Custom Encrypt!`\n",
    "Create a function `encrypt(s, X, Y)` that takes a string `s` and 2 integers `X` and `Y` as an input, and changes its characters to encrypt the message:\n",
    "\n",
    "    s - string\n",
    "    X - int\n",
    "    Y - int\n",
    "\n",
    "    `The low tide rises at 6pm on the 10th and at 7pm on the 21st message 24 058 55 25`\n",
    "    \n",
    "- odd numeric characters are converted to their corresponding letters of the alphabet + X \n",
    "- even numeric characters are converted to their corresponding letters of the alphabet - X \n",
    "- alpha characters are converted to their numerical representation, where and odds get + Y, evens get -Y."
   ]
  },
  {
   "cell_type": "code",
   "execution_count": 100,
   "metadata": {},
   "outputs": [
    {
     "data": {
      "text/plain": [
       "(97, 49, 100)"
      ]
     },
     "execution_count": 100,
     "metadata": {},
     "output_type": "execute_result"
    },
    {
     "name": "stdout",
     "output_type": "stream",
     "text": [
      "time: 1.59 ms\n"
     ]
    }
   ],
   "source": [
    "ord('a'), ord('1'), ord('d')"
   ]
  },
  {
   "cell_type": "code",
   "execution_count": null,
   "metadata": {},
   "outputs": [],
   "source": [
    "# YOUR CODE GOES HERE"
   ]
  },
  {
   "cell_type": "markdown",
   "metadata": {},
   "source": [
    "### `Exercise 9 - Custom Decrypt!`\n",
    "Create a decryption function that returns the original string representation when given the encrypted version as the input and the XYZ code."
   ]
  },
  {
   "cell_type": "code",
   "execution_count": null,
   "metadata": {},
   "outputs": [],
   "source": [
    "# YOUR CODE GOES HERE"
   ]
  }
 ],
 "metadata": {
  "kernelspec": {
   "display_name": "Python 3",
   "language": "python",
   "name": "python3"
  },
  "language_info": {
   "codemirror_mode": {
    "name": "ipython",
    "version": 3
   },
   "file_extension": ".py",
   "mimetype": "text/x-python",
   "name": "python",
   "nbconvert_exporter": "python",
   "pygments_lexer": "ipython3",
   "version": "3.7.4"
  }
 },
 "nbformat": 4,
 "nbformat_minor": 4
}
