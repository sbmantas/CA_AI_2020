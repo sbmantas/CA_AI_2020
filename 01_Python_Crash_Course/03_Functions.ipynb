{
 "cells": [
  {
   "cell_type": "markdown",
   "metadata": {},
   "source": [
    "# 03. Functions\n",
    "To make Python code more readable and reusable, we can factor it out into blocks of code, known as ***functions***. "
   ]
  },
  {
   "cell_type": "markdown",
   "metadata": {},
   "source": [
    "## Function `def`inition\n",
    "The first line of a function is its definition, marked by the keyword `def`:\n",
    "\n",
    "    def():\n",
    "    \"\"\"\n",
    "    Docstring.\n",
    "    \"\"\"\n",
    "\n",
    "A *docstring*, in triple quotes, describes what the function does. The body of a function is\n",
    "indented one level. To call a function, give the name of the function followed\n",
    "by a set of parentheses."
   ]
  },
  {
   "cell_type": "code",
   "execution_count": null,
   "metadata": {},
   "outputs": [],
   "source": [
    "def greet_user():\n",
    "    \"\"\"Display a simple greeting.\"\"\"\n",
    "    print(\"Hello!\")"
   ]
  },
  {
   "cell_type": "code",
   "execution_count": null,
   "metadata": {},
   "outputs": [],
   "source": [
    "??greet_user"
   ]
  },
  {
   "cell_type": "code",
   "execution_count": null,
   "metadata": {},
   "outputs": [],
   "source": [
    "greet_user()"
   ]
  },
  {
   "cell_type": "code",
   "execution_count": null,
   "metadata": {},
   "outputs": [],
   "source": [
    "print('I\\'m a print function')"
   ]
  },
  {
   "cell_type": "code",
   "execution_count": null,
   "metadata": {},
   "outputs": [],
   "source": [
    "# ??print"
   ]
  },
  {
   "cell_type": "code",
   "execution_count": null,
   "metadata": {},
   "outputs": [],
   "source": [
    "def square(x):\n",
    "    \"\"\"\n",
    "    Power X.\n",
    "    \"\"\"\n",
    "    return x ** 2"
   ]
  },
  {
   "cell_type": "code",
   "execution_count": null,
   "metadata": {},
   "outputs": [],
   "source": [
    "square(4)"
   ]
  },
  {
   "cell_type": "code",
   "execution_count": null,
   "metadata": {},
   "outputs": [],
   "source": [
    "def square(x: float) -> float:\n",
    "    \"\"\"\n",
    "    Squares the number.\n",
    "\n",
    "    Arguments:\n",
    "        x {float} -- a number\n",
    "\n",
    "    Returns:\n",
    "        float -- the square of the number\n",
    "        \n",
    "    Examples:\n",
    "        >>> square(3)\n",
    "        9\n",
    "        >>> square(2.5)\n",
    "        6.25\n",
    "        >>> square(2.9)\n",
    "        8.41\n",
    "    \"\"\"\n",
    "    return x ** 2"
   ]
  },
  {
   "cell_type": "code",
   "execution_count": null,
   "metadata": {},
   "outputs": [],
   "source": [
    "result = square(2.5)\n",
    "result"
   ]
  },
  {
   "cell_type": "code",
   "execution_count": null,
   "metadata": {},
   "outputs": [],
   "source": [
    "def name_age_hash(name='Povilas', age=25):\n",
    "    \"\"\"\n",
    "    Takes name and age as parameters and returns\n",
    "    a single integ er value representing their hash\n",
    "    value\n",
    "    \"\"\"\n",
    "    print(hash((name, age)))"
   ]
  },
  {
   "cell_type": "code",
   "execution_count": null,
   "metadata": {},
   "outputs": [],
   "source": [
    "name_age_hash"
   ]
  },
  {
   "cell_type": "code",
   "execution_count": null,
   "metadata": {},
   "outputs": [],
   "source": [
    "name_age_hash()"
   ]
  },
  {
   "cell_type": "code",
   "execution_count": null,
   "metadata": {},
   "outputs": [],
   "source": [
    "name_age_hash('Jim', age=28)"
   ]
  },
  {
   "cell_type": "code",
   "execution_count": null,
   "metadata": {},
   "outputs": [],
   "source": [
    "name_age_hash('Bob', age=71)"
   ]
  },
  {
   "cell_type": "code",
   "execution_count": null,
   "metadata": {},
   "outputs": [],
   "source": [
    "# Note - hash() is not deterministic\n",
    "from crypt import crypt\n",
    "\n",
    "def name_age_hash(name: str, age: int, salt: str = 'Pepper') -> int:\n",
    "    \"\"\"\n",
    "    Takes name and age as parameters and returns\n",
    "    a single integer value representing their hash\n",
    "    value.\n",
    "\n",
    "    Keyword Arguments:\n",
    "        name {str} -- the name of the person (default: {\"Dovydas\"})\n",
    "        age {int} -- the age of the person (default: {29})\n",
    "\n",
    "    Returns:\n",
    "        int -- the hash of the person\n",
    "\n",
    "    Examples:\n",
    "        >>> name_age_hash('Dovydas', 29)\n",
    "        'PeOwFsC3mXIiE'\n",
    "        >>> name_age_hash('Geoffrey', 71)\n",
    "        'PeZpp17pB2ang'\n",
    "        >>> name_age_hash('Dovydas', age=30)\n",
    "        'PeJ0lu1x6sT1o'\n",
    "        >>> name_age_hash('Dovydas', 29, 'Vinted')\n",
    "        'Vi5RSKuXo0qfw'\n",
    "    \"\"\"\n",
    "    return crypt(f\"{name}{age}\", salt=salt)"
   ]
  },
  {
   "cell_type": "code",
   "execution_count": null,
   "metadata": {},
   "outputs": [],
   "source": [
    "name_age_hash"
   ]
  },
  {
   "cell_type": "code",
   "execution_count": null,
   "metadata": {},
   "outputs": [],
   "source": [
    "name_age_hash()"
   ]
  },
  {
   "cell_type": "code",
   "execution_count": null,
   "metadata": {},
   "outputs": [],
   "source": [
    "name_age_hash('Jim', age=28)"
   ]
  },
  {
   "cell_type": "code",
   "execution_count": null,
   "metadata": {},
   "outputs": [],
   "source": [
    "name_age_hash('Bob', age=71)"
   ]
  },
  {
   "cell_type": "markdown",
   "metadata": {},
   "source": [
    "### `Exercise 1 - The Enumerate Clone`\n",
    "Create a function named `enumerate2` which behaves like `enumerate`."
   ]
  },
  {
   "cell_type": "code",
   "execution_count": null,
   "metadata": {},
   "outputs": [],
   "source": [
    "l = ['Cat', 'Dog', 'Mouse']"
   ]
  },
  {
   "cell_type": "code",
   "execution_count": null,
   "metadata": {},
   "outputs": [],
   "source": [
    "??enumerate"
   ]
  },
  {
   "cell_type": "code",
   "execution_count": null,
   "metadata": {},
   "outputs": [],
   "source": [
    "enumerate(l)"
   ]
  },
  {
   "cell_type": "code",
   "execution_count": null,
   "metadata": {},
   "outputs": [],
   "source": [
    "list(enumerate(l))"
   ]
  },
  {
   "cell_type": "code",
   "execution_count": null,
   "metadata": {},
   "outputs": [],
   "source": [
    "from typing import Iterable\n",
    "\n",
    "def enumerate2(iterable: Iterable) -> Iterable:\n",
    "    \"\"\"\n",
    "    enumerate clone\n",
    "\n",
    "    Arguments:\n",
    "        iterable {Iterable} -- any iterable\n",
    "\n",
    "    Returns:\n",
    "        Iterable -- a result iterable\n",
    "        \n",
    "    Examples:\n",
    "        >>> list(enumerate2([1, 2, 3]))\n",
    "        [(0, 1), (1, 2), (2, 3)]\n",
    "    \"\"\"\n",
    "    return zip(range(len(iterable)), iterable)\n",
    "\n",
    "enumerate2(l)"
   ]
  },
  {
   "cell_type": "code",
   "execution_count": null,
   "metadata": {},
   "outputs": [],
   "source": [
    "list(enumerate2(l))"
   ]
  },
  {
   "cell_type": "code",
   "execution_count": null,
   "metadata": {},
   "outputs": [],
   "source": [
    "for data in [[1, 2, 3], 'some string', ('hi', 10, {1, 2})]:\n",
    "    assert list(enumerate(data)) == list(enumerate2(data))"
   ]
  },
  {
   "cell_type": "markdown",
   "metadata": {},
   "source": [
    "### `Exercise 2 - Generator of a Generator`\n",
    "Create a function which takes a string as a parameter and returns a list and a generator inside another list, e.g.:\n",
    "\n",
    "Input string:\n",
    "\n",
    "    'Hi'\n",
    "\n",
    "    [['H', 'i'], <generator object at ...>]"
   ]
  },
  {
   "cell_type": "code",
   "execution_count": null,
   "metadata": {},
   "outputs": [],
   "source": [
    "def string_to_list_and_generator(s):\n",
    "    return [list(s), (x for x in s)]\n",
    "\n",
    "string_to_list_and_generator('Hi')"
   ]
  },
  {
   "cell_type": "markdown",
   "metadata": {},
   "source": [
    "## Function Defaults"
   ]
  },
  {
   "cell_type": "code",
   "execution_count": null,
   "metadata": {},
   "outputs": [],
   "source": [
    "from typing import List\n",
    "\n",
    "def dangerous_defaults(n: int, data:list=[]) -> List[float]:\n",
    "    for i in range(n):\n",
    "        data.append(i)\n",
    "    return data"
   ]
  },
  {
   "cell_type": "code",
   "execution_count": null,
   "metadata": {},
   "outputs": [],
   "source": [
    "dangerous_defaults(5)"
   ]
  },
  {
   "cell_type": "code",
   "execution_count": null,
   "metadata": {},
   "outputs": [],
   "source": [
    "dangerous_defaults(5)"
   ]
  },
  {
   "cell_type": "code",
   "execution_count": null,
   "metadata": {},
   "outputs": [],
   "source": [
    "dangerous_defaults(5), dangerous_defaults(5)"
   ]
  },
  {
   "cell_type": "markdown",
   "metadata": {},
   "source": [
    "### `Exercise 3 - Fixing Dangerous Defaults`\n",
    "Fix the function above to avoid the described error."
   ]
  },
  {
   "cell_type": "code",
   "execution_count": null,
   "metadata": {},
   "outputs": [],
   "source": [
    "from typing import List, Union\n",
    "\n",
    "def dangerous_defaults(n: int, data:list=None) -> List[float]:\n",
    "    if data is None:\n",
    "        data = []\n",
    "    for i in range(n):\n",
    "        data.append(i)\n",
    "    return data\n",
    "dangerous_defaults(5)"
   ]
  },
  {
   "cell_type": "markdown",
   "metadata": {},
   "source": [
    "## Multi Output Functions\n",
    "In Python, it is possible to return multiple outputs using a single function. \n",
    "\n",
    "**JK**, all functions have just a single output (but it may consist of multiple variables | values)"
   ]
  },
  {
   "cell_type": "code",
   "execution_count": null,
   "metadata": {},
   "outputs": [],
   "source": [
    "number = 5\n",
    "def multi_output_fun(number):\n",
    "    \n",
    "    return number/2, number**12, number*5\n",
    "\n",
    "multi_output_fun(number)"
   ]
  },
  {
   "cell_type": "code",
   "execution_count": null,
   "metadata": {},
   "outputs": [],
   "source": [
    "def multi_output_fun(data):\n",
    "    keys, values = zip(*data)\n",
    "    return keys, values"
   ]
  },
  {
   "cell_type": "code",
   "execution_count": null,
   "metadata": {},
   "outputs": [],
   "source": [
    "multi_output_fun([('name', 'Jon'), ('house', 'Snow'), ('wolf', 'Ghost')])"
   ]
  },
  {
   "cell_type": "markdown",
   "metadata": {},
   "source": [
    "### `Exercise 4 - Multi Average Fun(ction)`\n",
    "Create a `moving_averages` function which takes a list of integers `list_of_ints` as input and returns 3 different moving averages for the input list elements. \n",
    "- Average  3 = mean(`i-1`, `i-1`, `i`) for each `i`.\n",
    "- Average  7 = .....................................\n",
    "- Average 15 = .....................................\n",
    "\n",
    "`Hint` It may be helpful to firstly define a function that takes an integer list as input and returns a single moving average, and later call it three times using a more general parent function. E.g:\n",
    "\n",
    "Input: \n",
    "\n",
    "    [41, 30, 25, 68] - List of integers \n",
    "    N = 3            - Window size for calculating the averages\n",
    "    \n",
    "Output:\n",
    "\n",
    "    List of integers (the moving average for each of the list entries)"
   ]
  },
  {
   "cell_type": "code",
   "execution_count": null,
   "metadata": {},
   "outputs": [],
   "source": [
    "def moving_average(list_of_integers, N):\n",
    "    \n",
    "    result=[]\n",
    "    for idx, number in enumerate(list_of_integers):\n",
    "        \n",
    "        numbers = list_of_integers[:idx+1]\n",
    "        moving_numbers = numbers[-N:]\n",
    "        moving_mean = round(sum(moving_numbers)/(len(moving_numbers)), 4)\n",
    "        result.append(moving_mean)\n",
    "    \n",
    "    return result"
   ]
  },
  {
   "cell_type": "code",
   "execution_count": null,
   "metadata": {},
   "outputs": [],
   "source": [
    "l = [10, 15, 30, 40]\n",
    "l"
   ]
  },
  {
   "cell_type": "code",
   "execution_count": null,
   "metadata": {},
   "outputs": [],
   "source": [
    "moving_average(l, 3)"
   ]
  },
  {
   "cell_type": "code",
   "execution_count": null,
   "metadata": {},
   "outputs": [],
   "source": [
    "moving_average(l, 7)"
   ]
  },
  {
   "cell_type": "code",
   "execution_count": null,
   "metadata": {},
   "outputs": [],
   "source": [
    "moving_average(l, 15)"
   ]
  },
  {
   "cell_type": "code",
   "execution_count": null,
   "metadata": {
    "scrolled": true
   },
   "outputs": [],
   "source": [
    "def multi_moving_averages(list_of_integers):\n",
    "    \n",
    "    moving_3 = moving_average(l, 3)\n",
    "    moving_7 = moving_average(l, 7)\n",
    "    moving_15 = moving_average(l, 15)\n",
    "    return moving_3, moving_7, moving_15\n",
    "\n",
    "multi_moving_averages(l)"
   ]
  },
  {
   "cell_type": "code",
   "execution_count": null,
   "metadata": {},
   "outputs": [],
   "source": []
  },
  {
   "cell_type": "markdown",
   "metadata": {},
   "source": [
    "## Built-in functions\n",
    "Some of the built-ins that I found to be the most useful (for the full list, check [this link](https://docs.python.org/3/library/functions.html)):"
   ]
  },
  {
   "cell_type": "code",
   "execution_count": null,
   "metadata": {},
   "outputs": [],
   "source": [
    "# print\n",
    "print(123)"
   ]
  },
  {
   "cell_type": "code",
   "execution_count": null,
   "metadata": {},
   "outputs": [],
   "source": [
    "# list\n",
    "list('123'), list({1, 2, 3}), list({1: 'a', 2: 'b', 3: 'c'})"
   ]
  },
  {
   "cell_type": "code",
   "execution_count": null,
   "metadata": {},
   "outputs": [],
   "source": [
    "# range\n",
    "list(map(list, (range(4), range(-10, 2), range(20, 10, -3))))"
   ]
  },
  {
   "cell_type": "code",
   "execution_count": null,
   "metadata": {},
   "outputs": [],
   "source": [
    "# zip\n",
    "zip()"
   ]
  },
  {
   "cell_type": "code",
   "execution_count": null,
   "metadata": {},
   "outputs": [],
   "source": [
    "# abs\n",
    "abs(-100), abs(100), abs(10.5), abs(-0.5)"
   ]
  },
  {
   "cell_type": "code",
   "execution_count": null,
   "metadata": {},
   "outputs": [],
   "source": [
    "# bool\n",
    "bool(1), bool('123'), bool(''), bool(False), bool([]), bool({'key': 'value'})"
   ]
  },
  {
   "cell_type": "code",
   "execution_count": null,
   "metadata": {},
   "outputs": [],
   "source": [
    "# all \n",
    "# False values: 0, False, None, '', [], set(), {}, ()\n",
    "all([-1, -2, -3])"
   ]
  },
  {
   "cell_type": "code",
   "execution_count": null,
   "metadata": {},
   "outputs": [],
   "source": [
    "# all\n",
    "all([10, '1', True]), all([10, '1', True, False])"
   ]
  },
  {
   "cell_type": "code",
   "execution_count": null,
   "metadata": {},
   "outputs": [],
   "source": [
    "# any\n",
    "any([10, '1', True]), any([10, '0', True, 1]), any([0, '', False, {}])"
   ]
  },
  {
   "cell_type": "code",
   "execution_count": null,
   "metadata": {},
   "outputs": [],
   "source": [
    "# any\n",
    "any([0, False, None, '', [], set(), {}, ()]), any([0, False, None, '', [], set(), {}, (), 1])"
   ]
  },
  {
   "cell_type": "code",
   "execution_count": null,
   "metadata": {},
   "outputs": [],
   "source": [
    "# chr\n",
    "chr(97), chr(122), chr(65), chr(90)"
   ]
  },
  {
   "cell_type": "code",
   "execution_count": null,
   "metadata": {},
   "outputs": [],
   "source": [
    "ord('a'), ord('z'), ord('A'), ord('Z')"
   ]
  },
  {
   "cell_type": "code",
   "execution_count": null,
   "metadata": {},
   "outputs": [],
   "source": [
    "# dict\n",
    "dict([(0, 'a'), (1, 'b'), (2, 'c')])"
   ]
  },
  {
   "cell_type": "code",
   "execution_count": null,
   "metadata": {
    "scrolled": true
   },
   "outputs": [],
   "source": [
    "# dir\n",
    "dir(list)"
   ]
  },
  {
   "cell_type": "code",
   "execution_count": null,
   "metadata": {},
   "outputs": [],
   "source": [
    "# enumerate\n",
    "enumerate('abcd'), list(enumerate('abc'))"
   ]
  },
  {
   "cell_type": "code",
   "execution_count": null,
   "metadata": {},
   "outputs": [],
   "source": [
    "# filter\n",
    "list(filter(lambda x: x > 2, [1, 2, 3, 4, 5]))"
   ]
  },
  {
   "cell_type": "code",
   "execution_count": null,
   "metadata": {},
   "outputs": [],
   "source": [
    "# float\n",
    "float('11'), float(99)"
   ]
  },
  {
   "cell_type": "code",
   "execution_count": null,
   "metadata": {},
   "outputs": [],
   "source": [
    "# help\n",
    "help(dir)"
   ]
  },
  {
   "cell_type": "code",
   "execution_count": null,
   "metadata": {},
   "outputs": [],
   "source": [
    "# input\n",
    "secret_key = input('What is the secret key?')"
   ]
  },
  {
   "cell_type": "code",
   "execution_count": null,
   "metadata": {},
   "outputs": [],
   "source": [
    "# int\n",
    "int('100'), int(10.5), int(True)"
   ]
  },
  {
   "cell_type": "code",
   "execution_count": null,
   "metadata": {},
   "outputs": [],
   "source": [
    "# iter & next\n",
    "iterator1 = iter([1, 2, 3])\n",
    "next(iterator1), next(iterator1), next(iterator1)"
   ]
  },
  {
   "cell_type": "code",
   "execution_count": null,
   "metadata": {},
   "outputs": [],
   "source": [
    "# len\n",
    "len('A man a plan, Panama'), len([6, 6, 6]), len(set([6, 6, 6]))"
   ]
  },
  {
   "cell_type": "code",
   "execution_count": null,
   "metadata": {},
   "outputs": [],
   "source": [
    "# map\n",
    "list(map(int, list('123')))"
   ]
  },
  {
   "cell_type": "code",
   "execution_count": null,
   "metadata": {},
   "outputs": [],
   "source": [
    "# max & min\n",
    "max([0, 1, 2, 3, 9, -100]), min([0, 1, 2, 3, 9, -100])"
   ]
  },
  {
   "cell_type": "code",
   "execution_count": null,
   "metadata": {},
   "outputs": [],
   "source": [
    "# reversed\n",
    "list(reversed('dcba'))"
   ]
  },
  {
   "cell_type": "code",
   "execution_count": null,
   "metadata": {},
   "outputs": [],
   "source": [
    "# set\n",
    "set([1, 2, 1, 2, 3, 5, 5])"
   ]
  },
  {
   "cell_type": "code",
   "execution_count": null,
   "metadata": {},
   "outputs": [],
   "source": [
    "# sorted\n",
    "sorted([1, 9, 8, 7])"
   ]
  },
  {
   "cell_type": "code",
   "execution_count": null,
   "metadata": {},
   "outputs": [],
   "source": [
    "# str\n",
    "str(123), str([1, 2, 3])"
   ]
  },
  {
   "cell_type": "code",
   "execution_count": null,
   "metadata": {},
   "outputs": [],
   "source": [
    "# sum\n",
    "sum([100, 10, 1])"
   ]
  },
  {
   "cell_type": "code",
   "execution_count": null,
   "metadata": {},
   "outputs": [],
   "source": [
    "# tuple\n",
    "tuple([1, 2, 3])"
   ]
  },
  {
   "cell_type": "code",
   "execution_count": null,
   "metadata": {},
   "outputs": [],
   "source": [
    "# type\n",
    "type(1), type('1'), type(True)"
   ]
  },
  {
   "cell_type": "markdown",
   "metadata": {},
   "source": [
    "### `Exercise 5 - Modularize`\n",
    "Rewrite all of your developed scripts from `Exercises` in `02_Control_Flow_and_Comprehensions.ipynb` as Python functions to create your first Python **module**. Essentially, a module is a `.py` file, containing a bunch of Python definitions and statements that you can access using the `import` statement. E.g., `import utils.py` imports all of the definitions to the current session and they can be accessed using their respective names."
   ]
  },
  {
   "cell_type": "code",
   "execution_count": null,
   "metadata": {},
   "outputs": [],
   "source": []
  },
  {
   "cell_type": "markdown",
   "metadata": {},
   "source": [
    "### `Exercise 6 - Fibonacci`\n",
    "Write a Python function to get the Fibonacci series up to some certain number (n). \n",
    "\n",
    "**N.B.** The Fibonacci Sequence is a series of numbers, where every following number is defined by the sum of the two previous numbers: \n",
    "\n",
    "    0, 1, 1, 2, 3, 5....\n",
    "    \n",
    "Input:\n",
    "\n",
    "    fibonacci(10)\n",
    "    \n",
    "Output:\n",
    "    \n",
    "    [1, 1, 2, 3, 5, 8, 13, 21, 34, 55]"
   ]
  },
  {
   "cell_type": "code",
   "execution_count": null,
   "metadata": {},
   "outputs": [],
   "source": [
    "def fibonacci(n):\n",
    "    result = []\n",
    "    a, b = 0, 1\n",
    "    while len(result) < n:\n",
    "        (a, b) = [b, a + b]\n",
    "        result.append(a)\n",
    "    return result\n",
    "\n",
    "fibonacci(10)"
   ]
  },
  {
   "cell_type": "markdown",
   "metadata": {},
   "source": [
    "### `Exercise 7 - Upper/Lower`\n",
    "Write a Python function that accepts a string and calculates the number of upper case letters and lower case letters it has. E.g.:\n",
    "\n",
    "    Input   :  The quick Brown Fox\n",
    "    N Upper :  3\n",
    "    N Lower :  13\n"
   ]
  },
  {
   "cell_type": "code",
   "execution_count": null,
   "metadata": {},
   "outputs": [],
   "source": [
    "def string_test(s):\n",
    "    d={\n",
    "        \"UPPER_CASE\":0,  \n",
    "        \"LOWER_CASE\":0\n",
    "    }\n",
    "    for c in s:\n",
    "        if c.isupper():\n",
    "            d[\"UPPER_CASE\"]+=1\n",
    "        elif c.islower():\n",
    "            d[\"LOWER_CASE\"]+=1\n",
    "        else:\n",
    "            pass\n",
    "    print (\"Input   : \", s)\n",
    "    print (\"N Upper : \", d[\"UPPER_CASE\"])\n",
    "    print (\"N Lower : \", d[\"LOWER_CASE\"])\n",
    "\n",
    "string_test('The quick Brown Fox')"
   ]
  },
  {
   "cell_type": "markdown",
   "metadata": {},
   "source": [
    "### `Exercise 8 - The Mover`\n",
    "Write a Python function that returns no output bus moves files from one directory to another. Bring a dummy folder with some files to the present working directory to play around (nothing important, for your own good:)).\n",
    "    \n",
    "Inputs:\n",
    "\n",
    "    input_path (string)       - the directory containing the files that have to be movied/copied.\n",
    "    output_path (string)      - the directory to which the files have to be moved.\n",
    "    copy (boolean)            - if `True` (default), keep the original directory intact (otherwise delete it).\n",
    "    \n",
    "Check Python built-in libraries `glob`, `os`, and `shutil` to complete the task:\n",
    "\n",
    "**N.B.** Don't forget that you will have to create the output path before moving the files, possibly recursively if you directory is nested."
   ]
  },
  {
   "cell_type": "code",
   "execution_count": null,
   "metadata": {},
   "outputs": [],
   "source": [
    "import os\n",
    "from glob import glob\n",
    "import shutil"
   ]
  },
  {
   "cell_type": "code",
   "execution_count": null,
   "metadata": {},
   "outputs": [],
   "source": [
    "pwd = os.getcwd()\n",
    "pwd"
   ]
  },
  {
   "cell_type": "code",
   "execution_count": null,
   "metadata": {},
   "outputs": [],
   "source": [
    "os.listdir()"
   ]
  },
  {
   "cell_type": "code",
   "execution_count": null,
   "metadata": {},
   "outputs": [],
   "source": [
    "glob(f'{pwd}/data/*/*')"
   ]
  },
  {
   "cell_type": "code",
   "execution_count": null,
   "metadata": {
    "scrolled": true
   },
   "outputs": [],
   "source": [
    "# Let's say we want to duplicate the Trump corpus files\n",
    "chosen_dir = f'{pwd}/data/clinton_trump_corpus/Trump'\n",
    "target_dir = f'{pwd}/data/clinton_trump_corpus/Trump_copy'\n",
    "\n",
    "# These seem to be all the files that will have to be moved\n",
    "glob(f'{chosen_dir}/*')"
   ]
  },
  {
   "cell_type": "code",
   "execution_count": null,
   "metadata": {},
   "outputs": [],
   "source": [
    "def mover(inp_path, out_path, copy=True):\n",
    "    \n",
    "    if not os.path.exists(inp_path):\n",
    "        print (f'The path `{inp_path}` does not exist! Please provide a valid input path.')\n",
    "        return\n",
    "    \n",
    "    if not os.path.exists(out_path):\n",
    "        print (f'The path `{out_path}` does not exist! Creating...')\n",
    "        os.mkdir(out_path)\n",
    "    \n",
    "    fns = glob(f'{inp_path}/*')\n",
    "    for fn in fns:\n",
    "\n",
    "        fn_end = fn.split('/')[-1]\n",
    "        new_fn = out_path + '/' + fn_end\n",
    "        \n",
    "        shutil.copy(fn, new_fn)\n",
    "        if not copy:\n",
    "            os.remove(fn)\n",
    "        \n",
    "mover(chosen_dir, target_dir)"
   ]
  },
  {
   "cell_type": "markdown",
   "metadata": {},
   "source": [
    "### `Exercise 9 - Reader`\n",
    "Write a Python function `def reader(....)` that reads the contents of a of `.txt` file (use one of the speeches within the `data/clinton_trump_corpus`.\n",
    "   \n",
    "Input:\n",
    "\n",
    "    input_path (string)       - the path to the `.txt` file that will be read.\n",
    "    \n",
    "Output\n",
    "\n",
    "    lines                     - a list of lines (strings) from the `.txt` file."
   ]
  },
  {
   "cell_type": "code",
   "execution_count": null,
   "metadata": {},
   "outputs": [],
   "source": [
    "def reader(in_fn):\n",
    "    with open(in_fn, 'r') as inputfile:\n",
    "        lines = inputfile.readlines()\n",
    "    return lines\n",
    "\n",
    "reader(f'{chosen_dir}/Trump_2016-09-12-A.txt')"
   ]
  },
  {
   "cell_type": "markdown",
   "metadata": {},
   "source": [
    "### `Exercise 10 - Multi-Reader`\n",
    "Write a Python function `def multi_reader(...)` that uses **The Reader** in order to get the contents of all text `.txt` files within a directory.\n",
    "   \n",
    "Input:\n",
    "\n",
    "    input_path (string)       - the path to the directory containing a bunch of .txt files. \n",
    "        \n",
    "Output\n",
    "\n",
    "    documents                 - a list of line-lists (for each of the corresponding .txt files)."
   ]
  },
  {
   "cell_type": "code",
   "execution_count": null,
   "metadata": {},
   "outputs": [],
   "source": [
    "def multi_reader(folder_path):\n",
    "    \n",
    "    result=[]\n",
    "    for fn in glob(chosen_dir+'/*'):\n",
    "        lines = reader(fn)\n",
    "        result.append(lines)\n",
    "    return result\n",
    "\n",
    "multi_reader(chosen_dir)"
   ]
  },
  {
   "cell_type": "code",
   "execution_count": null,
   "metadata": {},
   "outputs": [],
   "source": [
    "def reader(in_fn): \n",
    "    return open(in_fn, 'r').readlines()\n",
    "\n",
    "def multi_reader(folder_path): \n",
    "    return [reader(fn) for fn in glob(chosen_dir+'/*')]"
   ]
  },
  {
   "cell_type": "markdown",
   "metadata": {},
   "source": [
    "### `Exercise 11 - Stats-Reader`\n",
    "Write a Python function `def stats_reader(...)` that uses **Multi Reader** to get the contents of multiple text files (e.g., a corpus of documents for a single person), and returns a variety of stats about them:\n",
    "\n",
    "Input:\n",
    "\n",
    "    documents         - a list of line-lists (for each of the corresponding .txt files).\n",
    "    \n",
    "Output\n",
    "\n",
    "    word_count        - total amount of words in all of the documents.\n",
    "    vocab_size        - total amount of unique words in all of the documebts.\n",
    "    mean_word_count   - average amount of words per document.\n",
    "    n_lines           - average amount of lines per document.\n",
    "    top_words         - top 50 most common words."
   ]
  },
  {
   "cell_type": "code",
   "execution_count": null,
   "metadata": {},
   "outputs": [],
   "source": [
    "def flatten(input_list): \n",
    "    return [item for inner_list in input_list for item in inner_list]"
   ]
  },
  {
   "cell_type": "code",
   "execution_count": null,
   "metadata": {},
   "outputs": [],
   "source": [
    "def stats_reader(folder_path):\n",
    "    \n",
    "    # A list of all documents (single document - list of lines)\n",
    "    documents = multi_reader(folder_path)\n",
    "    \n",
    "    # A list of all lines\n",
    "    lines = flatten(documents)\n",
    "    \n",
    "    # NOTE: STRING CLEANUP PROCEDURES COULD BE INSERTED HERE (before token splitting), e.g.:\n",
    "    # -- remove audience reaction remarks <> if you want to work with the text content.\n",
    "    # -- lowercase the text to avoid duplicates when getting the token counts\n",
    "    # -- filter punctuation (replace to whitespaces, then remove duplicated whitespaces, remove newlines and tabs)\n",
    "    \n",
    "    # NOTE 2: FUNCTIONS USEFUL FOR ALL (CAN MOVE TO MODULES | LESS MESS)\n",
    "    # You will often want to have both the full and the cleaned versions of the text,\n",
    "    # since the former can be used for vizualizations of output (full content), whereas\n",
    "    # the latter is much more useful for getting some relevant stats for vizualization/modeling purposes\n",
    "    \n",
    "    # A list of split (by whitespace) lines \n",
    "    lines_split = [line.split() for line in lines]\n",
    "    \n",
    "    # A list of all words\n",
    "    all_words = flatten(lines_split)\n",
    "    \n",
    "    # NOTE: after STRING CLEANUP you could remove english stopwords\n",
    "    # Define a set of words and then use list comprehension over chosen list of words\n",
    "    # FUNCTION USEFUL\n",
    "\n",
    "    # Word count statistics\n",
    "    word_count = len(all_words)\n",
    "    vocab_size = len(set(all_words))\n",
    "    mean_word_count = len(all_words)/len(documents)\n",
    "    \n",
    "    # Line count statistics\n",
    "    n_lines = len(lines)\n",
    "    n_words_per_line = [len(words) for words in lines_split]\n",
    "    s = 0\n",
    "    for l in n_words_per_line:\n",
    "        s+=l\n",
    "    n_words_per_line = s/n_lines\n",
    "    \n",
    "    print(f\"Total words count {word_count}\")\n",
    "    print(f\"Unique words count {vocab_size}\")\n",
    "    print(f\"Words per document {round(mean_word_count,3)}\")    \n",
    "    print(f\"N lines: {n_lines}\")\n",
    "    print(f\"Words per line {round(n_words_per_line,0)}\")\n",
    "    \n",
    "    d = dict()\n",
    "    for word in all_words:\n",
    "        if word not in d:\n",
    "            d[word]=1\n",
    "        else:\n",
    "            d[word]+=1\n",
    "    top50 = list({key:value for key, value in sorted(d.items(), key=lambda item: item[1], reverse=True)}.items())[:50]\n",
    "    print(f\"Top 50 words:\")\n",
    "    return top50\n",
    "\n",
    "stats_reader(target_dir)"
   ]
  },
  {
   "cell_type": "code",
   "execution_count": null,
   "metadata": {},
   "outputs": [],
   "source": [
    "# DEVELOP FUNCTION(ALITY) (e.g., hillary vs all text):\n",
    "# should return the proportion of some specific word within a corpus of text\n",
    "# def proportional_count(word, all_words):\n",
    "#     return\n",
    "\n",
    "# DEVELOP EXTENSION - BIGRAMS:\n",
    "# Use functions built previously to also return the most common bigrams\n",
    "# Might be costly, so use a boolean argument with default False for this one (dont run if not called)\n",
    "\n",
    "# DEVELOP USECASE - RETURNS:\n",
    "# Change the function returns so that you can store the most relevant output from some specific source\n",
    "# to a variable\n",
    "\n",
    "# DEVELOP FUNCTIONALITY - APPLAUSE EFFECT REACTION\n",
    "# This one's harder and with a much larger scope in general, so clearly define what you want it to do\n",
    "# This should be a function outside of the main stats reader, possibly calling its outputs.\n",
    "# The input might be some specific audience reaction, and the output could be the lines that included them"
   ]
  },
  {
   "cell_type": "code",
   "execution_count": null,
   "metadata": {},
   "outputs": [],
   "source": [
    "# DEVELOP:\n",
    "# 1. Input line_list, can be combined with readers\n",
    "# 2. Search for any word|string in a given list, use substring method\n",
    "\n",
    "def look_for_words(search_for1, search_for2, nr_word, input_file_path):\n",
    "    \n",
    "    word_count_total = 0\n",
    "    word_count = 0\n",
    "    \n",
    "    # Read the input file\n",
    "    with open(input_file_path, 'r') as inputfile:\n",
    "        line = inputfile.read().split()\n",
    "        i = 0\n",
    "    \n",
    "    for word in line:\n",
    "        i = i + 1\n",
    "    print(f\"Inthe text there is {i} words\")\n",
    "    word_count = i\n",
    "    \n",
    "    # Searchin for search_for1 and search_for2 list combination of words\n",
    "    for word1 in search_for1:\n",
    "        for word2 in search_for2:\n",
    "            i = -1\n",
    "            for t in line:\n",
    "                i = i + 1\n",
    "                if (i + nr_word + 1 < len(line)) and (line[i].upper() == word1.upper()) and (line[i + 1].upper() == word2.upper()):\n",
    "                    for spausdinti in range(nr_word):\n",
    "                        print(f\"{line[i + spausdinti]}\", end=\" \")\n",
    "                    print(f\"_ _ _ _ _ _ _ _ _ _ _ _  (Searching for {word1} {word2}: )\")\n",
    "                    word_count_total = word_count_total + word_count\n",
    "    print(f\"It was scaned {word_count_total} word in directory\")\n"
   ]
  },
  {
   "cell_type": "code",
   "execution_count": null,
   "metadata": {},
   "outputs": [],
   "source": [
    "# Searching for nr_word \n",
    "nr_word = 5\n",
    "search_for1 = [\"I\", \"We\",\"because\"]\n",
    "search_for2 = [\"need\", \"of\", \"will\"]\n",
    "input_path = glob(f'{chosen_dir}/*')\n",
    "\n",
    "for failas in input_path:\n",
    "    filtras(search_for1, search_for2, nr_word, failas)\n",
    "    print('-------------')\n",
    "    print(failas)\n",
    "    print('-------------')\n"
   ]
  },
  {
   "cell_type": "code",
   "execution_count": null,
   "metadata": {},
   "outputs": [],
   "source": []
  },
  {
   "cell_type": "code",
   "execution_count": null,
   "metadata": {},
   "outputs": [],
   "source": []
  },
  {
   "cell_type": "code",
   "execution_count": null,
   "metadata": {},
   "outputs": [],
   "source": []
  },
  {
   "cell_type": "markdown",
   "metadata": {},
   "source": [
    "Now use the stats reader to compare the presidential Donald Trumph's and Hilary Clinton's speeches, think about answering these questions:\n",
    "\n",
    "    What did you observe?\n",
    "    What could this mean?\n",
    "    Are there any technical flaws? What could be done better?\n",
    "    What further analysis might be useful in providing more information about the candidates?\n",
    "\n",
    "Discuss these questions in groups, compare your `stats_reader` implementations, and outline a plan for improving your analysis, including any code changes that may be necessary (think simple this time, let's stick to basic Python, not some fancy NLP libraries). Collect your notes here (double click on the cell to edit):\n",
    "\n",
    "1. \n",
    "2. \n",
    "...\n",
    "\n",
    "Now actually improve the design of the `stats_reader` and review the new results. Share your thought process and findings with your colleagues."
   ]
  },
  {
   "cell_type": "code",
   "execution_count": null,
   "metadata": {},
   "outputs": [],
   "source": []
  },
  {
   "cell_type": "code",
   "execution_count": null,
   "metadata": {},
   "outputs": [],
   "source": []
  },
  {
   "cell_type": "markdown",
   "metadata": {},
   "source": [
    "## Extended Iterable Unpacking\n",
    "### The Star `*` Operator\n",
    "    The `*` operator in Python let's you to contain an arbitrary number of arguments within one paremeter."
   ]
  },
  {
   "cell_type": "code",
   "execution_count": null,
   "metadata": {},
   "outputs": [],
   "source": [
    "glob(pwd)"
   ]
  },
  {
   "cell_type": "code",
   "execution_count": null,
   "metadata": {},
   "outputs": [],
   "source": [
    "glob('*')"
   ]
  },
  {
   "cell_type": "code",
   "execution_count": null,
   "metadata": {},
   "outputs": [],
   "source": [
    "glob('RE*')"
   ]
  },
  {
   "cell_type": "code",
   "execution_count": null,
   "metadata": {},
   "outputs": [],
   "source": [
    "ai_list = list('AI')\n",
    "ai_list"
   ]
  },
  {
   "cell_type": "code",
   "execution_count": null,
   "metadata": {},
   "outputs": [],
   "source": [
    "first_letter, second_letter = ai_list\n",
    "first_letter, second_letter"
   ]
  },
  {
   "cell_type": "code",
   "execution_count": null,
   "metadata": {},
   "outputs": [],
   "source": [
    "first_letter = ai_list[0]\n",
    "second_letter = ai_list[1]\n",
    "first_letter, second_letter"
   ]
  },
  {
   "cell_type": "code",
   "execution_count": null,
   "metadata": {},
   "outputs": [],
   "source": [
    "ai_word_list = ['Anyone', 'can', 'learn', 'AI']"
   ]
  },
  {
   "cell_type": "code",
   "execution_count": null,
   "metadata": {},
   "outputs": [],
   "source": [
    "first_word, *other_words = ai_word_list\n",
    "first_word, other_words"
   ]
  },
  {
   "cell_type": "code",
   "execution_count": null,
   "metadata": {},
   "outputs": [],
   "source": [
    "first_word, *middle_words, last_word = ai_word_list\n",
    "first_word, middle_words, last_word"
   ]
  },
  {
   "cell_type": "markdown",
   "metadata": {},
   "source": [
    "## Function arguments - the `*` operator\n",
    "- Python let's you to contain an arbitrary number of arguments within one paremeter using the `*` operator\n",
    "- The `**` operator allows a parameter to collect an arbitrary number of keyword arguments\n",
    "- A parameter that accepts an arbitrary number of arguments must come last in the function definition"
   ]
  },
  {
   "cell_type": "code",
   "execution_count": null,
   "metadata": {},
   "outputs": [],
   "source": [
    "sum(1, 2, 3)"
   ]
  },
  {
   "cell_type": "code",
   "execution_count": null,
   "metadata": {},
   "outputs": [],
   "source": [
    "??sum"
   ]
  },
  {
   "cell_type": "markdown",
   "metadata": {},
   "source": [
    "From the docstring: `sum(iterable, start=0, /)`\n",
    "\n",
    "    `sum` takes just two arguments - an iterable and a starting point."
   ]
  },
  {
   "cell_type": "code",
   "execution_count": null,
   "metadata": {},
   "outputs": [],
   "source": [
    "sum([1,2,3], 0)"
   ]
  },
  {
   "cell_type": "code",
   "execution_count": null,
   "metadata": {},
   "outputs": [],
   "source": [
    "sum((1,2,3), 5)"
   ]
  },
  {
   "cell_type": "markdown",
   "metadata": {},
   "source": [
    "Let's make a `sum2` function, which takes as many parameters as needed:"
   ]
  },
  {
   "cell_type": "code",
   "execution_count": null,
   "metadata": {},
   "outputs": [],
   "source": [
    "def sum2(*args):\n",
    "    return sum(args)"
   ]
  },
  {
   "cell_type": "code",
   "execution_count": null,
   "metadata": {},
   "outputs": [],
   "source": [
    "sum2(1, 2, 3, 4)"
   ]
  },
  {
   "cell_type": "markdown",
   "metadata": {},
   "source": [
    "The problem now is that we can't add a starting point as a param anymore. Let's fix it:"
   ]
  },
  {
   "cell_type": "code",
   "execution_count": null,
   "metadata": {},
   "outputs": [],
   "source": [
    "def sum2(*args, start=0):\n",
    "    return sum(args, start)"
   ]
  },
  {
   "cell_type": "code",
   "execution_count": null,
   "metadata": {},
   "outputs": [],
   "source": [
    "sum2(1, 2, 3, 4, start=100)"
   ]
  },
  {
   "cell_type": "markdown",
   "metadata": {},
   "source": [
    "***Collecting an arbitrary number of arguments:***"
   ]
  },
  {
   "cell_type": "code",
   "execution_count": null,
   "metadata": {},
   "outputs": [],
   "source": [
    "def make_pizza(size, *toppings):\n",
    "    \"\"\"Make a pizza.\"\"\"\n",
    "    print(\"\\nMaking a \" + size + \" pizza.\")\n",
    "    print(\"Toppings:\")\n",
    "    for topping in toppings:\n",
    "        print(\"- \" + topping)"
   ]
  },
  {
   "cell_type": "code",
   "execution_count": null,
   "metadata": {},
   "outputs": [],
   "source": [
    "make_pizza('small', 'pepperoni')"
   ]
  },
  {
   "cell_type": "code",
   "execution_count": null,
   "metadata": {},
   "outputs": [],
   "source": [
    "make_pizza('large', 'bacon bits', 'pineapple')"
   ]
  },
  {
   "cell_type": "code",
   "execution_count": null,
   "metadata": {},
   "outputs": [],
   "source": [
    "make_pizza('medium', 'mushrooms', 'peppers', 'onions', 'extra cheese')"
   ]
  },
  {
   "cell_type": "markdown",
   "metadata": {},
   "source": [
    "***Collecting an arbitrary number of keyword arguments:***"
   ]
  },
  {
   "cell_type": "code",
   "execution_count": null,
   "metadata": {},
   "outputs": [],
   "source": [
    "def build_profile(first, last, **user_info):\n",
    "    \"\"\"Build a user's profile dictionary.\"\"\"\n",
    "    \n",
    "    # Build a dict with the required keys.\n",
    "    profile = {'first': first, 'last': last}\n",
    "    \n",
    "    # Add any other keys and values.\n",
    "    for key, value in user_info.items():\n",
    "        profile[key] = value\n",
    "        \n",
    "    return profile"
   ]
  },
  {
   "cell_type": "code",
   "execution_count": null,
   "metadata": {},
   "outputs": [],
   "source": [
    "# Create two users with different kinds of information.\n",
    "user_0 = build_profile('albert', 'einstein', location='princeton')\n",
    "user_0"
   ]
  },
  {
   "cell_type": "code",
   "execution_count": null,
   "metadata": {},
   "outputs": [],
   "source": [
    "user_1 = build_profile('marie', 'curie', location='paris', field='chemistry')\n",
    "user_1"
   ]
  },
  {
   "cell_type": "markdown",
   "metadata": {},
   "source": [
    "***Collecting an arbitrary number of arguments | keyword arguments:***"
   ]
  },
  {
   "cell_type": "code",
   "execution_count": null,
   "metadata": {},
   "outputs": [],
   "source": [
    "def outer(fn, *args, **kwargs):\n",
    "    return fn(*args, **kwargs)"
   ]
  },
  {
   "cell_type": "code",
   "execution_count": null,
   "metadata": {},
   "outputs": [],
   "source": [
    "outer(print, 100, 200, 300, sep=' + ')"
   ]
  },
  {
   "cell_type": "code",
   "execution_count": null,
   "metadata": {},
   "outputs": [],
   "source": [
    "outer(print, 100, 200, 300, sep=' + ', end='\\t')\n",
    "outer(print, 100, 200, 300, sep=' + ', end='\\t')"
   ]
  },
  {
   "cell_type": "code",
   "execution_count": null,
   "metadata": {},
   "outputs": [],
   "source": [
    "def catch_all(*args, **kwargs):\n",
    "    \n",
    "    name='exp1'\n",
    "    \n",
    "    for arg in args:\n",
    "        name+='_arg'\n",
    "        \n",
    "    for key, value in kwargs.items():\n",
    "        name+=f'_{key}{value}'\n",
    "        \n",
    "    print (name)\n",
    "    \n",
    "    print(args)\n",
    "    print(kwargs)\n",
    "    \n",
    "catch_all(1, 2, 3, test=True, is_valid=False)"
   ]
  },
  {
   "cell_type": "code",
   "execution_count": null,
   "metadata": {},
   "outputs": [],
   "source": [
    "catch_all(1, 2, 3, **{'test': True, 'is_valid': False})"
   ]
  },
  {
   "cell_type": "markdown",
   "metadata": {},
   "source": [
    "### `Exercise 12`\n",
    "Create a `build_student_profile` function that takes as input:\n",
    "- Students name and surname.\n",
    "- An arbitrary number of middle names.\n",
    "- An arbitrary number of arguments representing students phone, address, etc.\n",
    "\n",
    "The function should return user profile dictionary as given in the example above, but the middle names should be stored together as a single string (separated by whitespaces)."
   ]
  },
  {
   "cell_type": "code",
   "execution_count": null,
   "metadata": {},
   "outputs": [],
   "source": []
  },
  {
   "cell_type": "markdown",
   "metadata": {},
   "source": [
    "# Recursive Functions\n",
    "Formally, a recursive function is a function defined in terms of itself via self-referential expressions. That is, such function will repeat its behaviour until some condition is met to return a result.\n",
    "\n",
    "    A good real world example of recursion could be the mirror effect. If we place another mirror in front of the first one, the objects get reflected recursively. Yes, the movie Inception is another nice example of recursion. Equivalently dizzy.\n",
    "\n",
    "All functions of such kind share a common structure made up of two parts: the base case and the recursive case. To demonstrate this stucture, let's try creating a recursive function that calculates the factorial `n!` of a number:\n",
    "    \n",
    "    \n",
    "    n! = n x (n−1) x (n−2) x (n−3) ⋅⋅⋅⋅ x 3 x 2 x 1\n",
    "    \n",
    "This can be deconstructed into smaller pieces by calling the factorial function itself (recursively): \n",
    "\n",
    "    n! = n x (n−1)! \n",
    "    n! = n x (n−1) x (n−2)!\n",
    "    n! = n x (n−1) x (n−2) x (n−3)!\n",
    "    ...\n",
    "    ...\n",
    "    n! = n x (n−1) x (n−2) x (n−3) ⋅⋅⋅⋅ x 3!\n",
    "    n! = n x (n−1) x (n−2) x (n−3) ⋅⋅⋅⋅ x 3 x 2!\n",
    "    n! = n x (n−1) x (n−2) x (n−3) ⋅⋅⋅⋅ x 3 x 2 x 1!\n",
    "    \n",
    "Here, `1!` is our base case, and it equals 1. "
   ]
  },
  {
   "cell_type": "code",
   "execution_count": null,
   "metadata": {},
   "outputs": [],
   "source": [
    "def factorial_recursive(n):\n",
    "    \n",
    "    # Base case: 1! = 1\n",
    "    if n == 1:\n",
    "        return 1\n",
    "\n",
    "    # Recursive case: n! = n * (n-1)!\n",
    "    else:\n",
    "        return n * factorial_recursive(n-1)\n",
    "    \n",
    "factorial_recursive(4)"
   ]
  },
  {
   "cell_type": "markdown",
   "metadata": {},
   "source": [
    "When we call this function with a positive integer, it will recursively call itself by decreasing the number:\n",
    "\n",
    "    factorial_recursive(4)              # 1st call with 4\n",
    "    4 * factorial_recursive(3)          # 2nd call with 3\n",
    "    4 * 3 * factorial_recursive(2)      # 3rd call with 2\n",
    "    4 * 3 * 2 * factorial_recursive(1)  # 4th call with 1\n",
    "    4 * 3 * 2 * 1                  # return from 4th call as number=1\n",
    "    4 * 3 * 2                      # return from 3rd call\n",
    "    4 * 6                          # return from 2nd call\n",
    "    24                             # return from 1st call"
   ]
  },
  {
   "cell_type": "markdown",
   "metadata": {},
   "source": [
    "This recursion ends when the number reaches the base condition. If this condition is not met, the function call itself infinitely.\n",
    "\n",
    "### Maintaining the State\n",
    "When dealing with recursive functions, it may be hard to keep the track of its progress and debug any potential issues, so you should try to maintain their state:\n",
    "- ***Thread the state*** through each recursive call so that the current state is a part of the current call's execution context.\n",
    "- Keep the state in ***global scope*** (global variable instead of an instance one).\n",
    "\n",
    "Here's an example of the first approach:"
   ]
  },
  {
   "cell_type": "code",
   "execution_count": null,
   "metadata": {},
   "outputs": [],
   "source": [
    "def sum_recursive(current_number, accumulated_sum):\n",
    "    \n",
    "    # Base case\n",
    "    # Return the final state\n",
    "    if current_number == 11:\n",
    "        return accumulated_sum\n",
    "\n",
    "    # Recursive case\n",
    "    # Thread the state through the recursive call\n",
    "    else:\n",
    "        return sum_recursive(current_number + 1, accumulated_sum + current_number)"
   ]
  },
  {
   "cell_type": "code",
   "execution_count": null,
   "metadata": {},
   "outputs": [],
   "source": [
    "sum_recursive(1, 0)"
   ]
  },
  {
   "cell_type": "code",
   "execution_count": null,
   "metadata": {},
   "outputs": [],
   "source": [
    "#print"
   ]
  },
  {
   "cell_type": "code",
   "execution_count": null,
   "metadata": {},
   "outputs": [],
   "source": []
  },
  {
   "attachments": {
    "image.png": {
     "image/png": "[encoded data removed]"
    }
   },
   "cell_type": "markdown",
   "metadata": {},
   "source": [
    "![image.png](attachment:image.png)\n",
    "\n",
    "Image adopted from this [link](https://realpython.com/python-thinking-recursively/). You may want to look through it for more information about recursion in Python.\n",
    "\n",
    "Here's the second example - keeping the states within the ***global scope***:"
   ]
  },
  {
   "cell_type": "code",
   "execution_count": null,
   "metadata": {},
   "outputs": [],
   "source": [
    "# Global mutable state\n",
    "current_number = 1\n",
    "accumulated_sum = 0\n",
    "\n",
    "def sum_recursive():\n",
    "    \n",
    "    global current_number\n",
    "    global accumulated_sum\n",
    "    \n",
    "    # Base case\n",
    "    if current_number == 11:\n",
    "        return accumulated_sum\n",
    "    \n",
    "    # Recursive case\n",
    "    else:\n",
    "        accumulated_sum = accumulated_sum + current_number\n",
    "        current_number = current_number + 1\n",
    "        return sum_recursive()"
   ]
  },
  {
   "cell_type": "code",
   "execution_count": null,
   "metadata": {},
   "outputs": [],
   "source": [
    "sum_recursive()"
   ]
  },
  {
   "cell_type": "markdown",
   "metadata": {},
   "source": [
    "However, global variables are considered to be a bad practice in programming (not only Python), so you should avoid this approach whenever possible.\n",
    "\n",
    "**N.B.** Global constants are not conceptually the same as global variables; global constants are perfectly harmless. In Python, the distinction between the two is purely by convention: CONSTANTS_ARE_CAPITALIZED and globals_are_not.\n",
    "\n",
    "    The global variables are bad is that they enable functions to have hidden (non-obvious, surprising, hard to detect, hard to diagnose) side effects, leading to an increase in code complexity.\n",
    "\n",
    "However, sane use of global state is acceptable (as is local state and mutability) even in functional programming, either for algorithm optimization, reduced complexity, caching and memoization, or the practicality of porting structures originating in a predominantly imperative codebase.\n",
    "\n",
    "For more information about the global variable problems, check these links: [1](http://c2.com/cgi/wiki?GlobalVariablesAreBad) and [2](https://softwareengineering.stackexchange.com/questions/148108/why-is-global-state-so-evil)"
   ]
  },
  {
   "cell_type": "markdown",
   "metadata": {},
   "source": [
    "### Recursive Fibonacci"
   ]
  },
  {
   "cell_type": "markdown",
   "metadata": {},
   "source": [
    "Here's an additional example of a recursive function for calculating the Fibonacci numbers:"
   ]
  },
  {
   "cell_type": "code",
   "execution_count": null,
   "metadata": {},
   "outputs": [],
   "source": [
    "def fibonacci_recursive(n):\n",
    "    print(\"Calculating F\", \"(\", n, \")\", sep=\"\", end=\", \")\n",
    "\n",
    "    # Base case\n",
    "    if n == 0:\n",
    "        return 0\n",
    "    elif n == 1:\n",
    "        return 1\n",
    "\n",
    "    # Recursive case\n",
    "    else:\n",
    "        return fibonacci_recursive(n-1) + fibonacci_recursive(n-2)"
   ]
  },
  {
   "cell_type": "code",
   "execution_count": null,
   "metadata": {},
   "outputs": [],
   "source": [
    "fibonacci_recursive(5)"
   ]
  },
  {
   "cell_type": "markdown",
   "metadata": {},
   "source": [
    "As you can see from the output above, we are unnecessarily recomputing values. Let’s try to improve fibonacci_recursive by caching the results of each Fibonacci computation:"
   ]
  },
  {
   "cell_type": "code",
   "execution_count": null,
   "metadata": {},
   "outputs": [],
   "source": [
    "from functools import lru_cache\n",
    "\n",
    "@lru_cache(maxsize=None)\n",
    "def fibonacci_recursive(n):\n",
    "    print(\"Calculating F\", \"(\", n, \")\", sep=\"\", end=\", \")\n",
    "\n",
    "    # Base case\n",
    "    if n == 0:\n",
    "        return 0\n",
    "    elif n == 1:\n",
    "        return 1\n",
    "\n",
    "    # Recursive case\n",
    "    else:\n",
    "        return fibonacci_recursive(n-1) + fibonacci_recursive(n-2)\n"
   ]
  },
  {
   "cell_type": "markdown",
   "metadata": {},
   "source": [
    "`lru_cache` is a decorator that caches the results. Thus, we avoid recomputation by explicitly checking for the value before trying to compute it. One thing to keep in mind about `lru_cache` is that since it uses a dictionary to cache results, the positional and keyword arguments (which serve as keys in that dictionary) to the function must be hashable."
   ]
  },
  {
   "cell_type": "markdown",
   "metadata": {},
   "source": [
    "### `Exercise 13`\n",
    "Write a Fibonacci number calculator using recursion.\n"
   ]
  },
  {
   "cell_type": "code",
   "execution_count": null,
   "metadata": {},
   "outputs": [],
   "source": []
  },
  {
   "cell_type": "markdown",
   "metadata": {},
   "source": [
    "### Why Recursion?\n",
    "\n",
    "***Pros***\n",
    "1. Recursive functions make the code look clean and elegant\n",
    "2. A complex task can be broken down into simpler sub-problems using recursion.\n",
    "2. Sequence generation is easier with recursion than using some nested iteration\n",
    "\n",
    "***Cons***\n",
    "1. Sometimes the logic behind recursion is hard to follow through.\n",
    "2. Recursive calls are expensive (inefficient) as they take up a lot of memory and time.\n",
    "3. Recursive functions are hard to debug."
   ]
  },
  {
   "cell_type": "markdown",
   "metadata": {},
   "source": [
    "## What is the best way to structure a function?\n",
    "As you have observed previously, there are multiple ways to write and call a function. When you are starting out, try to simply ***make it work, later polish it to be reliable and efficient***. After you develop an understanding of the more subtle advantages of the different structures | syntax, just ***explore and time it***.\n",
    "\n",
    "## Autotiming with Jupyter\n",
    "For automatic timing on Jupyter Notebook cells, go to your anaconda prompt, activate the working environment, and run (in terminal): \n",
    "\n",
    "    pip install ipython-autotime\n",
    "    \n",
    "Then add this line at the top of the notebook near the imports and run the cell:\n",
    "    \n",
    "    %load_ext autotime"
   ]
  },
  {
   "cell_type": "code",
   "execution_count": null,
   "metadata": {},
   "outputs": [],
   "source": []
  },
  {
   "cell_type": "code",
   "execution_count": null,
   "metadata": {},
   "outputs": [],
   "source": []
  }
 ],
 "metadata": {
  "kernelspec": {
   "display_name": "Python 3",
   "language": "python",
   "name": "python3"
  },
  "language_info": {
   "codemirror_mode": {
    "name": "ipython",
    "version": 3
   },
   "file_extension": ".py",
   "mimetype": "text/x-python",
   "name": "python",
   "nbconvert_exporter": "python",
   "pygments_lexer": "ipython3",
   "version": "3.7.4"
  }
 },
 "nbformat": 4,
 "nbformat_minor": 2
}
